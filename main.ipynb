{
 "cells": [
  {
   "cell_type": "code",
   "execution_count": 88,
   "metadata": {},
   "outputs": [],
   "source": [
    "import numpy as np\n",
    "import pandas as pd\n",
    "import seaborn as sns\n",
    "import scipy.stats as stats\n",
    "from cleaning_tiktok import *\n",
    "from cleaning_youtube import *\n",
    "import matplotlib.pyplot as plt\n",
    "from cleaning_instagram import *\n"
   ]
  },
  {
   "cell_type": "code",
   "execution_count": 89,
   "metadata": {},
   "outputs": [],
   "source": [
    "instagram_raw = pd.read_csv(\"instagram-sep-2022.csv\")\n",
    "tiktok_raw = pd.read_csv(\"tiktok-sep-2022.csv\")\n",
    "youtube_raw = pd.read_csv(\"youtube-sep-2022.csv\")"
   ]
  },
  {
   "cell_type": "code",
   "execution_count": 92,
   "metadata": {},
   "outputs": [
    {
     "data": {
      "text/html": [
       "<div>\n",
       "<style scoped>\n",
       "    .dataframe tbody tr th:only-of-type {\n",
       "        vertical-align: middle;\n",
       "    }\n",
       "\n",
       "    .dataframe tbody tr th {\n",
       "        vertical-align: top;\n",
       "    }\n",
       "\n",
       "    .dataframe thead th {\n",
       "        text-align: right;\n",
       "    }\n",
       "</style>\n",
       "<table border=\"1\" class=\"dataframe\">\n",
       "  <thead>\n",
       "    <tr style=\"text-align: right;\">\n",
       "      <th></th>\n",
       "      <th>S.no</th>\n",
       "      <th>Instagram name</th>\n",
       "      <th>Name</th>\n",
       "      <th>Subscribers</th>\n",
       "      <th>Audience country</th>\n",
       "      <th>Authentic engagement</th>\n",
       "      <th>Engagement average</th>\n",
       "      <th>Category_1</th>\n",
       "      <th>Category_2</th>\n",
       "    </tr>\n",
       "  </thead>\n",
       "  <tbody>\n",
       "    <tr>\n",
       "      <th>203</th>\n",
       "      <td>204</td>\n",
       "      <td>serna_amini</td>\n",
       "      <td>Serna Amini</td>\n",
       "      <td>9.6M</td>\n",
       "      <td>Iran</td>\n",
       "      <td>1.4M</td>\n",
       "      <td>1.8M</td>\n",
       "      <td>NaN</td>\n",
       "      <td>NaN</td>\n",
       "    </tr>\n",
       "    <tr>\n",
       "      <th>298</th>\n",
       "      <td>299</td>\n",
       "      <td>alidaei</td>\n",
       "      <td>Ali Daei</td>\n",
       "      <td>9.1M</td>\n",
       "      <td>Iran</td>\n",
       "      <td>722.8K</td>\n",
       "      <td>1.2M</td>\n",
       "      <td>Sports with a ball</td>\n",
       "      <td>NaN</td>\n",
       "    </tr>\n",
       "    <tr>\n",
       "      <th>334</th>\n",
       "      <td>335</td>\n",
       "      <td>hassan_reyvandi</td>\n",
       "      <td>hasan reyvandi حسن ریوندی</td>\n",
       "      <td>19.7M</td>\n",
       "      <td>Iran</td>\n",
       "      <td>337.9K</td>\n",
       "      <td>466.9K</td>\n",
       "      <td>Cinema &amp; Actors/actresses</td>\n",
       "      <td>Humor &amp; Fun &amp; Happiness</td>\n",
       "    </tr>\n",
       "    <tr>\n",
       "      <th>370</th>\n",
       "      <td>371</td>\n",
       "      <td>eminem</td>\n",
       "      <td>Marshall Mathers</td>\n",
       "      <td>36.5M</td>\n",
       "      <td>Iran</td>\n",
       "      <td>171.4K</td>\n",
       "      <td>221.2K</td>\n",
       "      <td>Cinema &amp; Actors/actresses</td>\n",
       "      <td>NaN</td>\n",
       "    </tr>\n",
       "    <tr>\n",
       "      <th>481</th>\n",
       "      <td>482</td>\n",
       "      <td>aliiiiiiiikarimi8</td>\n",
       "      <td>Ali Karimi</td>\n",
       "      <td>9.8M</td>\n",
       "      <td>Iran</td>\n",
       "      <td>415.5K</td>\n",
       "      <td>630.7K</td>\n",
       "      <td>Sports with a ball</td>\n",
       "      <td>NaN</td>\n",
       "    </tr>\n",
       "    <tr>\n",
       "      <th>483</th>\n",
       "      <td>484</td>\n",
       "      <td>navidmohammadzadeh</td>\n",
       "      <td>navid mohammadzadeh</td>\n",
       "      <td>8.6M</td>\n",
       "      <td>Iran</td>\n",
       "      <td>495.9K</td>\n",
       "      <td>700.1K</td>\n",
       "      <td>Cinema &amp; Actors/actresses</td>\n",
       "      <td>NaN</td>\n",
       "    </tr>\n",
       "    <tr>\n",
       "      <th>519</th>\n",
       "      <td>520</td>\n",
       "      <td>golfarahani</td>\n",
       "      <td>Golshifteh Farahani</td>\n",
       "      <td>13.7M</td>\n",
       "      <td>Iran</td>\n",
       "      <td>301.7K</td>\n",
       "      <td>388.9K</td>\n",
       "      <td>Cinema &amp; Actors/actresses</td>\n",
       "      <td>NaN</td>\n",
       "    </tr>\n",
       "    <tr>\n",
       "      <th>576</th>\n",
       "      <td>577</td>\n",
       "      <td>donya</td>\n",
       "      <td>Donya</td>\n",
       "      <td>15.3M</td>\n",
       "      <td>Iran</td>\n",
       "      <td>194.2K</td>\n",
       "      <td>308.6K</td>\n",
       "      <td>Lifestyle</td>\n",
       "      <td>NaN</td>\n",
       "    </tr>\n",
       "    <tr>\n",
       "      <th>587</th>\n",
       "      <td>588</td>\n",
       "      <td>jeonghaniyoo_n</td>\n",
       "      <td>윤정한</td>\n",
       "      <td>3.6M</td>\n",
       "      <td>Iran</td>\n",
       "      <td>935.4K</td>\n",
       "      <td>1.2M</td>\n",
       "      <td>Lifestyle</td>\n",
       "      <td>NaN</td>\n",
       "    </tr>\n",
       "    <tr>\n",
       "      <th>633</th>\n",
       "      <td>634</td>\n",
       "      <td>perspolis</td>\n",
       "      <td>Persepolis</td>\n",
       "      <td>8.3M</td>\n",
       "      <td>Iran</td>\n",
       "      <td>335.2K</td>\n",
       "      <td>476.4K</td>\n",
       "      <td>Sports with a ball</td>\n",
       "      <td>NaN</td>\n",
       "    </tr>\n",
       "    <tr>\n",
       "      <th>709</th>\n",
       "      <td>710</td>\n",
       "      <td>rezagolzar</td>\n",
       "      <td>Mohammad Reza Golzar</td>\n",
       "      <td>12.3M</td>\n",
       "      <td>Iran</td>\n",
       "      <td>197.2K</td>\n",
       "      <td>288K</td>\n",
       "      <td>Cinema &amp; Actors/actresses</td>\n",
       "      <td>NaN</td>\n",
       "    </tr>\n",
       "    <tr>\n",
       "      <th>710</th>\n",
       "      <td>711</td>\n",
       "      <td>saharghoreyshiofficialpage</td>\n",
       "      <td>سحر قريشى Sahar Ghoreyshi</td>\n",
       "      <td>11.5M</td>\n",
       "      <td>Iran</td>\n",
       "      <td>203.9K</td>\n",
       "      <td>297.9K</td>\n",
       "      <td>NaN</td>\n",
       "      <td>NaN</td>\n",
       "    </tr>\n",
       "    <tr>\n",
       "      <th>713</th>\n",
       "      <td>714</td>\n",
       "      <td>dk_is_dokyeom</td>\n",
       "      <td>도겸</td>\n",
       "      <td>3.5M</td>\n",
       "      <td>Iran</td>\n",
       "      <td>825.4K</td>\n",
       "      <td>994.2K</td>\n",
       "      <td>Lifestyle</td>\n",
       "      <td>NaN</td>\n",
       "    </tr>\n",
       "    <tr>\n",
       "      <th>750</th>\n",
       "      <td>751</td>\n",
       "      <td>pooorblack</td>\n",
       "      <td>Pooorblack</td>\n",
       "      <td>4.9M</td>\n",
       "      <td>Iran</td>\n",
       "      <td>503.5K</td>\n",
       "      <td>652.1K</td>\n",
       "      <td>NaN</td>\n",
       "      <td>NaN</td>\n",
       "    </tr>\n",
       "    <tr>\n",
       "      <th>830</th>\n",
       "      <td>831</td>\n",
       "      <td>tohi</td>\n",
       "      <td>𝐓𝐎𝐇𝐈</td>\n",
       "      <td>12.1M</td>\n",
       "      <td>Iran</td>\n",
       "      <td>162K</td>\n",
       "      <td>240.7K</td>\n",
       "      <td>Lifestyle</td>\n",
       "      <td>NaN</td>\n",
       "    </tr>\n",
       "    <tr>\n",
       "      <th>860</th>\n",
       "      <td>861</td>\n",
       "      <td>realshadmehr</td>\n",
       "      <td>Shadmehr Aghili</td>\n",
       "      <td>8.1M</td>\n",
       "      <td>Iran</td>\n",
       "      <td>236.4K</td>\n",
       "      <td>329.6K</td>\n",
       "      <td>NaN</td>\n",
       "      <td>NaN</td>\n",
       "    </tr>\n",
       "    <tr>\n",
       "      <th>873</th>\n",
       "      <td>874</td>\n",
       "      <td>bmw</td>\n",
       "      <td>BMW</td>\n",
       "      <td>33.7M</td>\n",
       "      <td>Iran</td>\n",
       "      <td>57.2K</td>\n",
       "      <td>74.7K</td>\n",
       "      <td>Cars &amp; Motorbikes</td>\n",
       "      <td>NaN</td>\n",
       "    </tr>\n",
       "    <tr>\n",
       "      <th>915</th>\n",
       "      <td>916</td>\n",
       "      <td>farhaddddddd</td>\n",
       "      <td>Farhad Majidi</td>\n",
       "      <td>3.6M</td>\n",
       "      <td>Iran</td>\n",
       "      <td>475.4K</td>\n",
       "      <td>786.5K</td>\n",
       "      <td>Sports with a ball</td>\n",
       "      <td>NaN</td>\n",
       "    </tr>\n",
       "    <tr>\n",
       "      <th>934</th>\n",
       "      <td>935</td>\n",
       "      <td>sinavaliollah</td>\n",
       "      <td>Sina Valiollah</td>\n",
       "      <td>7.3M</td>\n",
       "      <td>Iran</td>\n",
       "      <td>256.2K</td>\n",
       "      <td>323.2K</td>\n",
       "      <td>Shows</td>\n",
       "      <td>NaN</td>\n",
       "    </tr>\n",
       "    <tr>\n",
       "      <th>980</th>\n",
       "      <td>981</td>\n",
       "      <td>shahinsamadpoor</td>\n",
       "      <td>Shahin Samad poor شاهین صمدپور</td>\n",
       "      <td>4.7M</td>\n",
       "      <td>Iran</td>\n",
       "      <td>360.5K</td>\n",
       "      <td>475.9K</td>\n",
       "      <td>Literature &amp; Journalism</td>\n",
       "      <td>Cinema &amp; Actors/actresses</td>\n",
       "    </tr>\n",
       "    <tr>\n",
       "      <th>1030</th>\n",
       "      <td>981</td>\n",
       "      <td>shahinsamadpoor</td>\n",
       "      <td>Shahin Samad poor شاهین صمدپور</td>\n",
       "      <td>4.7M</td>\n",
       "      <td>Iran</td>\n",
       "      <td>360.5K</td>\n",
       "      <td>475.9K</td>\n",
       "      <td>Literature &amp; Journalism</td>\n",
       "      <td>Cinema &amp; Actors/actresses</td>\n",
       "    </tr>\n",
       "  </tbody>\n",
       "</table>\n",
       "</div>"
      ],
      "text/plain": [
       "      S.no              Instagram name                            Name  \\\n",
       "203    204                 serna_amini                     Serna Amini   \n",
       "298    299                     alidaei                        Ali Daei   \n",
       "334    335             hassan_reyvandi       hasan reyvandi حسن ریوندی   \n",
       "370    371                      eminem                Marshall Mathers   \n",
       "481    482           aliiiiiiiikarimi8                      Ali Karimi   \n",
       "483    484          navidmohammadzadeh             navid mohammadzadeh   \n",
       "519    520                 golfarahani             Golshifteh Farahani   \n",
       "576    577                       donya                           Donya   \n",
       "587    588              jeonghaniyoo_n                             윤정한   \n",
       "633    634                   perspolis                      Persepolis   \n",
       "709    710                  rezagolzar            Mohammad Reza Golzar   \n",
       "710    711  saharghoreyshiofficialpage       سحر قريشى Sahar Ghoreyshi   \n",
       "713    714               dk_is_dokyeom                              도겸   \n",
       "750    751                  pooorblack                      Pooorblack   \n",
       "830    831                        tohi                            𝐓𝐎𝐇𝐈   \n",
       "860    861                realshadmehr                 Shadmehr Aghili   \n",
       "873    874                         bmw                             BMW   \n",
       "915    916                farhaddddddd                   Farhad Majidi   \n",
       "934    935               sinavaliollah                  Sina Valiollah   \n",
       "980    981             shahinsamadpoor  Shahin Samad poor شاهین صمدپور   \n",
       "1030   981             shahinsamadpoor  Shahin Samad poor شاهین صمدپور   \n",
       "\n",
       "     Subscribers Audience country Authentic engagement Engagement average  \\\n",
       "203         9.6M             Iran                 1.4M               1.8M   \n",
       "298         9.1M             Iran               722.8K               1.2M   \n",
       "334        19.7M             Iran               337.9K             466.9K   \n",
       "370        36.5M             Iran               171.4K             221.2K   \n",
       "481         9.8M             Iran               415.5K             630.7K   \n",
       "483         8.6M             Iran               495.9K             700.1K   \n",
       "519        13.7M             Iran               301.7K             388.9K   \n",
       "576        15.3M             Iran               194.2K             308.6K   \n",
       "587         3.6M             Iran               935.4K               1.2M   \n",
       "633         8.3M             Iran               335.2K             476.4K   \n",
       "709        12.3M             Iran               197.2K               288K   \n",
       "710        11.5M             Iran               203.9K             297.9K   \n",
       "713         3.5M             Iran               825.4K             994.2K   \n",
       "750         4.9M             Iran               503.5K             652.1K   \n",
       "830        12.1M             Iran                 162K             240.7K   \n",
       "860         8.1M             Iran               236.4K             329.6K   \n",
       "873        33.7M             Iran                57.2K              74.7K   \n",
       "915         3.6M             Iran               475.4K             786.5K   \n",
       "934         7.3M             Iran               256.2K             323.2K   \n",
       "980         4.7M             Iran               360.5K             475.9K   \n",
       "1030        4.7M             Iran               360.5K             475.9K   \n",
       "\n",
       "                     Category_1                 Category_2  \n",
       "203                         NaN                        NaN  \n",
       "298          Sports with a ball                        NaN  \n",
       "334   Cinema & Actors/actresses    Humor & Fun & Happiness  \n",
       "370   Cinema & Actors/actresses                        NaN  \n",
       "481          Sports with a ball                        NaN  \n",
       "483   Cinema & Actors/actresses                        NaN  \n",
       "519   Cinema & Actors/actresses                        NaN  \n",
       "576                   Lifestyle                        NaN  \n",
       "587                   Lifestyle                        NaN  \n",
       "633          Sports with a ball                        NaN  \n",
       "709   Cinema & Actors/actresses                        NaN  \n",
       "710                         NaN                        NaN  \n",
       "713                   Lifestyle                        NaN  \n",
       "750                         NaN                        NaN  \n",
       "830                   Lifestyle                        NaN  \n",
       "860                         NaN                        NaN  \n",
       "873           Cars & Motorbikes                        NaN  \n",
       "915          Sports with a ball                        NaN  \n",
       "934                       Shows                        NaN  \n",
       "980     Literature & Journalism  Cinema & Actors/actresses  \n",
       "1030    Literature & Journalism  Cinema & Actors/actresses  "
      ]
     },
     "execution_count": 92,
     "metadata": {},
     "output_type": "execute_result"
    }
   ],
   "source": [
    "instagram_raw[instagram_raw[\"Audience country\"] == \"Iran\"]"
   ]
  },
  {
   "attachments": {},
   "cell_type": "markdown",
   "metadata": {},
   "source": [
    "# Preprocessing"
   ]
  },
  {
   "attachments": {},
   "cell_type": "markdown",
   "metadata": {},
   "source": [
    "## Instagram"
   ]
  },
  {
   "cell_type": "code",
   "execution_count": 48,
   "metadata": {},
   "outputs": [],
   "source": [
    "instagram = instagram_raw.pipe(\n",
    "    drop_useless_cols_instagram\n",
    ").pipe(\n",
    "    rename_instagram\n",
    ").pipe(\n",
    "    converting_instagram\n",
    ").pipe(\n",
    "    sort_values_instagram\n",
    ")"
   ]
  },
  {
   "attachments": {},
   "cell_type": "markdown",
   "metadata": {},
   "source": [
    "## YouTube"
   ]
  },
  {
   "cell_type": "code",
   "execution_count": 49,
   "metadata": {},
   "outputs": [],
   "source": [
    "youtube = youtube_raw.pipe(\n",
    "    drop_useless_cols_youtube\n",
    ").pipe(\n",
    "    rename_youtube\n",
    ").pipe(\n",
    "    converting_youtube\n",
    ").pipe(\n",
    "    sort_values_youtube\n",
    ")"
   ]
  },
  {
   "attachments": {},
   "cell_type": "markdown",
   "metadata": {},
   "source": [
    "## TikTok"
   ]
  },
  {
   "cell_type": "code",
   "execution_count": 50,
   "metadata": {},
   "outputs": [],
   "source": [
    "tiktok = tiktok_raw.pipe(\n",
    "    drop_useless_cols_tiktok\n",
    ").pipe(\n",
    "    rename_tiktok\n",
    ").pipe(\n",
    "    converting_tiktok\n",
    ").pipe(\n",
    "    sort_values_youtube\n",
    ")"
   ]
  },
  {
   "attachments": {},
   "cell_type": "markdown",
   "metadata": {},
   "source": [
    "## Select Minimum Available Rows"
   ]
  },
  {
   "cell_type": "code",
   "execution_count": 51,
   "metadata": {},
   "outputs": [
    {
     "name": "stdout",
     "output_type": "stream",
     "text": [
      "TikTok Rows: 1000\n",
      "YouTube Rows: 1047\n",
      "Instagram Rows: 1050\n"
     ]
    }
   ],
   "source": [
    "print(f\"TikTok Rows: {tiktok.shape[0]}\")\n",
    "print(f\"YouTube Rows: {youtube.shape[0]}\")\n",
    "print(f\"Instagram Rows: {instagram.shape[0]}\")"
   ]
  },
  {
   "attachments": {},
   "cell_type": "markdown",
   "metadata": {},
   "source": [
    "**1000 Rows Selected‌ **"
   ]
  },
  {
   "cell_type": "code",
   "execution_count": 52,
   "metadata": {},
   "outputs": [],
   "source": [
    "instagram = instagram.loc[:999,:]\n",
    "youtube = youtube.loc[:999,:]"
   ]
  },
  {
   "attachments": {},
   "cell_type": "markdown",
   "metadata": {},
   "source": [
    "## Convert All Subscriber Numbers to Milion"
   ]
  },
  {
   "cell_type": "code",
   "execution_count": 93,
   "metadata": {},
   "outputs": [],
   "source": [
    "tiktok[\"subscribers\"] = tiktok[\"subscribers\"] / 1000000\n",
    "youtube[\"subscribers\"] = youtube[\"subscribers\"] / 1000000\n",
    "instagram[\"subscribers\"] = instagram[\"subscribers\"] / 1000000"
   ]
  },
  {
   "attachments": {},
   "cell_type": "markdown",
   "metadata": {},
   "source": [
    "# Analogy"
   ]
  },
  {
   "attachments": {},
   "cell_type": "markdown",
   "metadata": {},
   "source": [
    "## Histograms"
   ]
  },
  {
   "cell_type": "code",
   "execution_count": 94,
   "metadata": {},
   "outputs": [
    {
     "data": {
      "text/plain": [
       "<AxesSubplot:>"
      ]
     },
     "execution_count": 94,
     "metadata": {},
     "output_type": "execute_result"
    },
    {
     "data": {
      "image/png": "[encoded data removed]",
      "text/plain": [
       "<Figure size 640x480 with 1 Axes>"
      ]
     },
     "metadata": {},
     "output_type": "display_data"
    }
   ],
   "source": [
    "tiktok.subscribers.hist(bins = 100)"
   ]
  },
  {
   "cell_type": "code",
   "execution_count": 97,
   "metadata": {},
   "outputs": [
    {
     "data": {
      "text/plain": [
       "<AxesSubplot:>"
      ]
     },
     "execution_count": 97,
     "metadata": {},
     "output_type": "execute_result"
    },
    {
     "data": {
      "image/png": "[encoded data removed]",
      "text/plain": [
       "<Figure size 640x480 with 1 Axes>"
      ]
     },
     "metadata": {},
     "output_type": "display_data"
    }
   ],
   "source": [
    "youtube.subscribers.hist(bins = 100)"
   ]
  },
  {
   "cell_type": "code",
   "execution_count": 98,
   "metadata": {},
   "outputs": [
    {
     "data": {
      "text/plain": [
       "<AxesSubplot:>"
      ]
     },
     "execution_count": 98,
     "metadata": {},
     "output_type": "execute_result"
    },
    {
     "data": {
      "image/png": "[encoded data removed]",
      "text/plain": [
       "<Figure size 640x480 with 1 Axes>"
      ]
     },
     "metadata": {},
     "output_type": "display_data"
    }
   ],
   "source": [
    "instagram.subscribers.hist(bins = 100)"
   ]
  },
  {
   "attachments": {},
   "cell_type": "markdown",
   "metadata": {},
   "source": [
    "**All histograms are right-skewed**"
   ]
  },
  {
   "cell_type": "code",
   "execution_count": 99,
   "metadata": {},
   "outputs": [],
   "source": [
    "# To Save Info for Analogy\n",
    "info = {}"
   ]
  },
  {
   "attachments": {},
   "cell_type": "markdown",
   "metadata": {},
   "source": [
    "## Median"
   ]
  },
  {
   "cell_type": "code",
   "execution_count": 101,
   "metadata": {},
   "outputs": [
    {
     "name": "stdout",
     "output_type": "stream",
     "text": [
      "TikTok Subscribers Median: 3.5 M\n",
      "YouTube Subscribers Median: 14.4 M\n",
      "Instagram Subscribers Median: 15.1 M\n"
     ]
    }
   ],
   "source": [
    "print(f\"TikTok Subscribers Median: {tiktok.subscribers.median()} M\")\n",
    "print(f\"YouTube Subscribers Median: {youtube.subscribers.median()} M\")\n",
    "print(f\"Instagram Subscribers Median: {instagram.subscribers.median()} M\")\n"
   ]
  },
  {
   "attachments": {},
   "cell_type": "markdown",
   "metadata": {},
   "source": [
    "## Mean"
   ]
  },
  {
   "cell_type": "code",
   "execution_count": 104,
   "metadata": {},
   "outputs": [
    {
     "name": "stdout",
     "output_type": "stream",
     "text": [
      "TikTok Subscribers Mean: 7.083611284 M\n",
      "YouTube Subscribers Mean: 18.762999991 M\n",
      "Instagram Subscribers Mean: 27.292399987999996 M\n"
     ]
    }
   ],
   "source": [
    "print(f\"TikTok Subscribers Mean: {tiktok.subscribers.mean()} M\")\n",
    "print(f\"YouTube Subscribers Mean: {youtube.subscribers.mean()} M\")\n",
    "print(f\"Instagram Subscribers Mean: {instagram.subscribers.mean()} M\")"
   ]
  },
  {
   "attachments": {},
   "cell_type": "markdown",
   "metadata": {},
   "source": [
    "**Above cell shows if you want to be popular more than 50% of Top-1000 acounts in each platfrom, how many subscribers should you have.**\n",
    "\n",
    "**Above cell also shows that the mean of Instagram extremly affect by outliers in our samples. The median is better metric here for a fair analogy.**\n",
    "\n",
    "\n"
   ]
  },
  {
   "attachments": {},
   "cell_type": "markdown",
   "metadata": {},
   "source": [
    "## Standard Deviation"
   ]
  },
  {
   "cell_type": "code",
   "execution_count": 103,
   "metadata": {},
   "outputs": [
    {
     "name": "stdout",
     "output_type": "stream",
     "text": [
      "TikTok Subscribers Standard Deviation: 11.606181821200133 M\n",
      "YouTube Subscribers Standard Deviation: 14.271720743867045 M\n",
      "Instagram Subscribers Standard Deviation: 44.88499888426487 M\n"
     ]
    }
   ],
   "source": [
    "# Delta Degrees of Freedom (ddof) is equal to 1, coz we have sample, not population\n",
    "print(f\"TikTok Subscribers Standard Deviation: {tiktok.subscribers.std(ddof = 1)} M\")\n",
    "print(f\"YouTube Subscribers Standard Deviation: {youtube.subscribers.std(ddof = 1)} M\")\n",
    "print(f\"Instagram Subscribers Standard Deviation: {instagram.subscribers.std(ddof = 1)} M\")"
   ]
  },
  {
   "attachments": {},
   "cell_type": "markdown",
   "metadata": {},
   "source": [
    "---\n",
    "\n"
   ]
  },
  {
   "attachments": {},
   "cell_type": "markdown",
   "metadata": {},
   "source": [
    "**What if you want to be popular more than 84% of Top-1000 acounts in each platfrom?**\n",
    "\n",
    "**Then how many subscribers should you have?**"
   ]
  },
  {
   "cell_type": "code",
   "execution_count": 111,
   "metadata": {},
   "outputs": [
    {
     "name": "stdout",
     "output_type": "stream",
     "text": [
      "TikTok Subscribers (Mean+Std): 18.68979310520013 M\n",
      "YouTube Subscribers (Mean+Std): 33.034720734867044 M\n",
      "Instagram Subscribers (Mean+Std): 72.17739887226486 M\n"
     ]
    }
   ],
   "source": [
    "print(f\"TikTok Subscribers (Mean+Std): {tiktok.subscribers.mean() + tiktok.subscribers.std(ddof = 1)} M\")\n",
    "print(f\"YouTube Subscribers (Mean+Std): {youtube.subscribers.mean() + youtube.subscribers.std(ddof = 1)} M\")\n",
    "print(f\"Instagram Subscribers (Mean+Std): {instagram.subscribers.mean() + instagram.subscribers.std(ddof = 1)} M\")"
   ]
  }
 ],
 "metadata": {
  "kernelspec": {
   "display_name": "Python 3",
   "language": "python",
   "name": "python3"
  },
  "language_info": {
   "codemirror_mode": {
    "name": "ipython",
    "version": 3
   },
   "file_extension": ".py",
   "mimetype": "text/x-python",
   "name": "python",
   "nbconvert_exporter": "python",
   "pygments_lexer": "ipython3",
   "version": "3.9.2"
  },
  "orig_nbformat": 4
 },
 "nbformat": 4,
 "nbformat_minor": 2
}
